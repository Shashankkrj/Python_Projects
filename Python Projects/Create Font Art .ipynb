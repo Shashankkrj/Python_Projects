{
 "cells": [
  {
   "cell_type": "markdown",
   "metadata": {},
   "source": [
    "### The font that appears in the output of your Python program is the default font for your operating system. Changing the font of your output may not be possible without using an external library. This is where the PyFiglet library in Python can come in handy.`"
   ]
  },
  {
   "cell_type": "markdown",
   "metadata": {},
   "source": [
    "### The PyFiglet library in Python can be used to visualize the output of your Python program with an amazing font style."
   ]
  },
  {
   "cell_type": "code",
   "execution_count": 1,
   "metadata": {},
   "outputs": [
    {
     "name": "stdout",
     "output_type": "stream",
     "text": [
      "Collecting pyfiglet\n",
      "  Downloading pyfiglet-0.8.post1-py2.py3-none-any.whl (865 kB)\n",
      "Installing collected packages: pyfiglet\n",
      "Successfully installed pyfiglet-0.8.post1\n"
     ]
    }
   ],
   "source": [
    "!pip install pyfiglet"
   ]
  },
  {
   "cell_type": "code",
   "execution_count": 37,
   "metadata": {},
   "outputs": [
    {
     "name": "stdout",
     "output_type": "stream",
     "text": [
      " ____  _               _                 _    \n",
      "/ ___|| |__   __ _ ___| |__   __ _ _ __ | | __\n",
      "\\___ \\| '_ \\ / _` / __| '_ \\ / _` | '_ \\| |/ /\n",
      " ___) | | | | (_| \\__ \\ | | | (_| | | | |   < \n",
      "|____/|_| |_|\\__,_|___/_| |_|\\__,_|_| |_|_|\\_\\\n",
      "                                              \n",
      "     _       _                   _ \n",
      "    | | __ _(_)_____      ____ _| |\n",
      " _  | |/ _` | / __\\ \\ /\\ / / _` | |\n",
      "| |_| | (_| | \\__ \\\\ V  V / (_| | |\n",
      " \\___/ \\__,_|_|___/ \\_/\\_/ \\__,_|_|\n",
      "                                   \n",
      "\n"
     ]
    }
   ],
   "source": [
    "import pyfiglet\n",
    "font=pyfiglet.figlet_format('Shashank Jaiswal')\n",
    "print(font)"
   ]
  },
  {
   "cell_type": "markdown",
   "metadata": {},
   "source": [
    "### The above font is the default font style provided by the PyFiglet library in Python. If you want to change the font of the output, you can change it using the font parameter (pyfiglet.figlet_format(‘Aman Kharwal’, font=”font name”))."
   ]
  },
  {
   "cell_type": "code",
   "execution_count": 16,
   "metadata": {},
   "outputs": [
    {
     "name": "stdout",
     "output_type": "stream",
     "text": [
      "   _____ __               __                __  \n",
      "  / ___// /_  ____ ______/ /_  ____ _____  / /__\n",
      "  \\__ \\/ __ \\/ __ `/ ___/ __ \\/ __ `/ __ \\/ //_/\n",
      " ___/ / / / / /_/ (__  ) / / / /_/ / / / / ,<   \n",
      "/____/_/ /_/\\__,_/____/_/ /_/\\__,_/_/ /_/_/|_|  \n",
      "                                                \n",
      "       __      _                     __\n",
      "      / /___ _(_)_____      ______ _/ /\n",
      " __  / / __ `/ / ___/ | /| / / __ `/ / \n",
      "/ /_/ / /_/ / (__  )| |/ |/ / /_/ / /  \n",
      "\\____/\\__,_/_/____/ |__/|__/\\__,_/_/   \n",
      "                                       \n",
      "\n"
     ]
    }
   ],
   "source": [
    "font=pyfiglet.figlet_format('Shashank Jaiswal',font=\"slant\")\n",
    "print(font)"
   ]
  },
  {
   "cell_type": "code",
   "execution_count": 12,
   "metadata": {},
   "outputs": [
    {
     "name": "stdout",
     "output_type": "stream",
     "text": [
      "  ******** **                        **                         **    \n",
      " **////// /**                       /**                        /**    \n",
      "/**       /**       ******    ******/**       ******   ******* /**  **\n",
      "/*********/******  //////**  **//// /******  //////** //**///**/** ** \n",
      "////////**/**///**  ******* //***** /**///**  *******  /**  /**/****  \n",
      "       /**/**  /** **////**  /////**/**  /** **////**  /**  /**/**/** \n",
      " ******** /**  /**//******** ****** /**  /**//******** ***  /**/**//**\n",
      "////////  //   //  //////// //////  //   //  //////// ///   // //  // \n",
      "\n"
     ]
    }
   ],
   "source": [
    "#Text in 3D format\n",
    "font=pyfiglet.figlet_format('Shashank',font=\"3-d\")\n",
    "print(font)"
   ]
  },
  {
   "cell_type": "code",
   "execution_count": 9,
   "metadata": {},
   "outputs": [
    {
     "name": "stdout",
     "output_type": "stream",
     "text": [
      "                                \n",
      " ## #           #           #   \n",
      "#   ###  ##  ## ###  ## ##  # # \n",
      " #  # # # #  #  # # # # # # ##  \n",
      "  # # # ### ##  # # ### # # # # \n",
      "##                              \n",
      "\n"
     ]
    }
   ],
   "source": [
    "#Text in 3X5 font\n",
    "font=pyfiglet.figlet_format('Shashank',font=\"3X5\")\n",
    "print(font)"
   ]
  },
  {
   "cell_type": "code",
   "execution_count": 39,
   "metadata": {},
   "outputs": [
    {
     "name": "stdout",
     "output_type": "stream",
     "text": [
      "                                                                          \n",
      "                                                                          \n",
      "    //   ) )                                                              \n",
      "   ((        / __      ___      ___     / __      ___       __     / ___  \n",
      "     \\\\     //   ) ) //   ) ) ((   ) ) //   ) ) //   ) ) //   ) ) //\\ \\   \n",
      "       ) ) //   / / //   / /   \\ \\    //   / / //   / / //   / / //  \\ \\  \n",
      "((___ / / //   / / ((___( ( //   ) ) //   / / ((___( ( //   / / //    \\ \\ \n",
      "\n"
     ]
    }
   ],
   "source": [
    "#Text in 5lineoblique font\n",
    "font=pyfiglet.figlet_format('Shashank',font=\"5lineoblique\")\n",
    "print(font)"
   ]
  },
  {
   "cell_type": "code",
   "execution_count": 40,
   "metadata": {},
   "outputs": [
    {
     "name": "stdout",
     "output_type": "stream",
     "text": [
      " SSS  h            h             k    \n",
      "S     h            h             k k  \n",
      " SSS  hhh   aa  ss hhh   aa nnn  kk   \n",
      "    S h  h a a  s  h  h a a n  n k k  \n",
      "SSSS  h  h aaa ss  h  h aaa n  n k  k \n",
      "                                      \n",
      "                                      \n",
      "\n"
     ]
    }
   ],
   "source": [
    "#Text in alphabet font\n",
    "font=pyfiglet.figlet_format('Shashank',font=\"alphabet\")\n",
    "print(font)"
   ]
  },
  {
   "cell_type": "code",
   "execution_count": 41,
   "metadata": {},
   "outputs": [
    {
     "name": "stdout",
     "output_type": "stream",
     "text": [
      ":'######::'##::::'##::::'###:::::'######::'##::::'##::::'###::::'##::: ##:\n",
      "'##... ##: ##:::: ##:::'## ##:::'##... ##: ##:::: ##:::'## ##::: ###:: ##:\n",
      " ##:::..:: ##:::: ##::'##:. ##:: ##:::..:: ##:::: ##::'##:. ##:: ####: ##:\n",
      ". ######:: #########:'##:::. ##:. ######:: #########:'##:::. ##: ## ## ##:\n",
      ":..... ##: ##.... ##: #########::..... ##: ##.... ##: #########: ##. ####:\n",
      "'##::: ##: ##:::: ##: ##.... ##:'##::: ##: ##:::: ##: ##.... ##: ##:. ###:\n",
      ". ######:: ##:::: ##: ##:::: ##:. ######:: ##:::: ##: ##:::: ##: ##::. ##:\n",
      ":......:::..:::::..::..:::::..:::......:::..:::::..::..:::::..::..::::..::\n",
      "'##:::'##:\n",
      " ##::'##::\n",
      " ##:'##:::\n",
      " #####::::\n",
      " ##. ##:::\n",
      " ##:. ##::\n",
      " ##::. ##:\n",
      "..::::..::\n",
      "\n"
     ]
    }
   ],
   "source": [
    "#Text in banner3-D font\n",
    "font=pyfiglet.figlet_format('Shashank',font=\"banner3-D\")\n",
    "print(font)"
   ]
  },
  {
   "cell_type": "code",
   "execution_count": 42,
   "metadata": {},
   "outputs": [
    {
     "name": "stdout",
     "output_type": "stream",
     "text": [
      "                                                                         \n",
      "                                                                         \n",
      "   SSSSSSSSSSSSSSS hhhhhhh                                               \n",
      " SS:::::::::::::::Sh:::::h                                               \n",
      "S:::::SSSSSS::::::Sh:::::h                                               \n",
      "S:::::S     SSSSSSSh:::::h                                               \n",
      "S:::::S             h::::h hhhhh         aaaaaaaaaaaaa      ssssssssss   \n",
      "S:::::S             h::::hh:::::hhh      a::::::::::::a   ss::::::::::s  \n",
      " S::::SSSS          h::::::::::::::hh    aaaaaaaaa:::::ass:::::::::::::s \n",
      "  SS::::::SSSSS     h:::::::hhh::::::h            a::::as::::::ssss:::::s\n",
      "    SSS::::::::SS   h::::::h   h::::::h    aaaaaaa:::::a s:::::s  ssssss \n",
      "       SSSSSS::::S  h:::::h     h:::::h  aa::::::::::::a   s::::::s      \n",
      "            S:::::S h:::::h     h:::::h a::::aaaa::::::a      s::::::s   \n",
      "            S:::::S h:::::h     h:::::ha::::a    a:::::assssss   s:::::s \n",
      "SSSSSSS     S:::::S h:::::h     h:::::ha::::a    a:::::as:::::ssss::::::s\n",
      "S::::::SSSSSS:::::S h:::::h     h:::::ha:::::aaaa::::::as::::::::::::::s \n",
      "S:::::::::::::::SS  h:::::h     h:::::h a::::::::::aa:::as:::::::::::ss  \n",
      " SSSSSSSSSSSSSSS    hhhhhhh     hhhhhhh  aaaaaaaaaa  aaaa sssssssssss    \n",
      "                                                                         \n",
      "                                                                         \n",
      "                                                                         \n",
      "                                                                         \n",
      "                                                                         \n",
      "                                                                         \n",
      "                                                                         \n",
      "                                                                          \n",
      "                                                                          \n",
      "hhhhhhh                                                kkkkkkkk           \n",
      "h:::::h                                                k::::::k           \n",
      "h:::::h                                                k::::::k           \n",
      "h:::::h                                                k::::::k           \n",
      " h::::h hhhhh         aaaaaaaaaaaaa  nnnn  nnnnnnnn     k:::::k    kkkkkkk\n",
      " h::::hh:::::hhh      a::::::::::::a n:::nn::::::::nn   k:::::k   k:::::k \n",
      " h::::::::::::::hh    aaaaaaaaa:::::an::::::::::::::nn  k:::::k  k:::::k  \n",
      " h:::::::hhh::::::h            a::::ann:::::::::::::::n k:::::k k:::::k   \n",
      " h::::::h   h::::::h    aaaaaaa:::::a  n:::::nnnn:::::n k::::::k:::::k    \n",
      " h:::::h     h:::::h  aa::::::::::::a  n::::n    n::::n k:::::::::::k     \n",
      " h:::::h     h:::::h a::::aaaa::::::a  n::::n    n::::n k:::::::::::k     \n",
      " h:::::h     h:::::ha::::a    a:::::a  n::::n    n::::n k::::::k:::::k    \n",
      " h:::::h     h:::::ha::::a    a:::::a  n::::n    n::::nk::::::k k:::::k   \n",
      " h:::::h     h:::::ha:::::aaaa::::::a  n::::n    n::::nk::::::k  k:::::k  \n",
      " h:::::h     h:::::h a::::::::::aa:::a n::::n    n::::nk::::::k   k:::::k \n",
      " hhhhhhh     hhhhhhh  aaaaaaaaaa  aaaa nnnnnn    nnnnnnkkkkkkkk    kkkkkkk\n",
      "                                                                          \n",
      "                                                                          \n",
      "                                                                          \n",
      "                                                                          \n",
      "                                                                          \n",
      "                                                                          \n",
      "                                                                          \n",
      "\n"
     ]
    }
   ],
   "source": [
    "#Text in doh font\n",
    "font=pyfiglet.figlet_format('Shashank',font=\"doh\")\n",
    "print(font)"
   ]
  },
  {
   "cell_type": "code",
   "execution_count": 43,
   "metadata": {},
   "outputs": [
    {
     "name": "stdout",
     "output_type": "stream",
     "text": [
      "      ___           ___           ___           ___           ___     \n",
      "     /\\  \\         /\\__\\         /\\  \\         /\\  \\         /\\__\\    \n",
      "    /::\\  \\       /:/  /        /::\\  \\       /::\\  \\       /:/  /    \n",
      "   /:/\\ \\  \\     /:/__/        /:/\\:\\  \\     /:/\\ \\  \\     /:/__/     \n",
      "  _\\:\\~\\ \\  \\   /::\\  \\ ___   /::\\~\\:\\  \\   _\\:\\~\\ \\  \\   /::\\  \\ ___ \n",
      " /\\ \\:\\ \\ \\__\\ /:/\\:\\  /\\__\\ /:/\\:\\ \\:\\__\\ /\\ \\:\\ \\ \\__\\ /:/\\:\\  /\\__\\\n",
      " \\:\\ \\:\\ \\/__/ \\/__\\:\\/:/  / \\/__\\:\\/:/  / \\:\\ \\:\\ \\/__/ \\/__\\:\\/:/  /\n",
      "  \\:\\ \\:\\__\\        \\::/  /       \\::/  /   \\:\\ \\:\\__\\        \\::/  / \n",
      "   \\:\\/:/  /        /:/  /        /:/  /     \\:\\/:/  /        /:/  /  \n",
      "    \\::/  /        /:/  /        /:/  /       \\::/  /        /:/  /   \n",
      "     \\/__/         \\/__/         \\/__/         \\/__/         \\/__/    \n",
      "      ___           ___           ___     \n",
      "     /\\  \\         /\\__\\         /\\__\\    \n",
      "    /::\\  \\       /::|  |       /:/  /    \n",
      "   /:/\\:\\  \\     /:|:|  |      /:/__/     \n",
      "  /::\\~\\:\\  \\   /:/|:|  |__   /::\\__\\____ \n",
      " /:/\\:\\ \\:\\__\\ /:/ |:| /\\__\\ /:/\\:::::\\__\\\n",
      " \\/__\\:\\/:/  / \\/__|:|/:/  / \\/_|:|~~|~   \n",
      "      \\::/  /      |:/:/  /     |:|  |    \n",
      "      /:/  /       |::/  /      |:|  |    \n",
      "     /:/  /        /:/  /       |:|  |    \n",
      "     \\/__/         \\/__/         \\|__|    \n",
      "\n"
     ]
    }
   ],
   "source": [
    "#Text in isometric1 font\n",
    "font=pyfiglet.figlet_format('Shashank',font=\"isometric1\")\n",
    "print(font)"
   ]
  },
  {
   "cell_type": "code",
   "execution_count": 44,
   "metadata": {},
   "outputs": [
    {
     "name": "stdout",
     "output_type": "stream",
     "text": [
      "      ___           ___           ___           ___           ___     \n",
      "     /\\__\\         /\\  \\         /\\  \\         /\\__\\         /\\  \\    \n",
      "    /:/ _/_        \\:\\  \\       /::\\  \\       /:/ _/_        \\:\\  \\   \n",
      "   /:/ /\\  \\        \\:\\  \\     /:/\\:\\  \\     /:/ /\\  \\        \\:\\  \\  \n",
      "  /:/ /::\\  \\   ___ /::\\  \\   /:/ /::\\  \\   /:/ /::\\  \\   ___ /::\\  \\ \n",
      " /:/_/:/\\:\\__\\ /\\  /:/\\:\\__\\ /:/_/:/\\:\\__\\ /:/_/:/\\:\\__\\ /\\  /:/\\:\\__\\\n",
      " \\:\\/:/ /:/  / \\:\\/:/  \\/__/ \\:\\/:/  \\/__/ \\:\\/:/ /:/  / \\:\\/:/  \\/__/\n",
      "  \\::/ /:/  /   \\::/__/       \\::/__/       \\::/ /:/  /   \\::/__/     \n",
      "   \\/_/:/  /     \\:\\  \\        \\:\\  \\        \\/_/:/  /     \\:\\  \\     \n",
      "     /:/  /       \\:\\__\\        \\:\\__\\         /:/  /       \\:\\__\\    \n",
      "     \\/__/         \\/__/         \\/__/         \\/__/         \\/__/    \n",
      "      ___           ___           ___     \n",
      "     /\\  \\         /\\  \\         /|  |    \n",
      "    /::\\  \\        \\:\\  \\       |:|  |    \n",
      "   /:/\\:\\  \\        \\:\\  \\      |:|  |    \n",
      "  /:/ /::\\  \\   _____\\:\\  \\   __|:|  |    \n",
      " /:/_/:/\\:\\__\\ /::::::::\\__\\ /\\ |:|__|____\n",
      " \\:\\/:/  \\/__/ \\:\\~~\\~~\\/__/ \\:\\/:::::/__/\n",
      "  \\::/__/       \\:\\  \\        \\::/~~/~    \n",
      "   \\:\\  \\        \\:\\  \\        \\:\\~~\\     \n",
      "    \\:\\__\\        \\:\\__\\        \\:\\__\\    \n",
      "     \\/__/         \\/__/         \\/__/    \n",
      "\n"
     ]
    }
   ],
   "source": [
    "#Text in isometric2 font\n",
    "font=pyfiglet.figlet_format('Shashank',font=\"isometric2\")\n",
    "print(font)"
   ]
  },
  {
   "cell_type": "code",
   "execution_count": 46,
   "metadata": {},
   "outputs": [
    {
     "name": "stdout",
     "output_type": "stream",
     "text": [
      "      ___           ___           ___           ___           ___     \n",
      "     /  /\\         /__/\\         /  /\\         /  /\\         /__/\\    \n",
      "    /  /:/_        \\  \\:\\       /  /::\\       /  /:/_        \\  \\:\\   \n",
      "   /  /:/ /\\        \\__\\:\\     /  /:/\\:\\     /  /:/ /\\        \\__\\:\\  \n",
      "  /  /:/ /::\\   ___ /  /::\\   /  /:/~/::\\   /  /:/ /::\\   ___ /  /::\\ \n",
      " /__/:/ /:/\\:\\ /__/\\  /:/\\:\\ /__/:/ /:/\\:\\ /__/:/ /:/\\:\\ /__/\\  /:/\\:\\\n",
      " \\  \\:\\/:/~/:/ \\  \\:\\/:/__\\/ \\  \\:\\/:/__\\/ \\  \\:\\/:/~/:/ \\  \\:\\/:/__\\/\n",
      "  \\  \\::/ /:/   \\  \\::/       \\  \\::/       \\  \\::/ /:/   \\  \\::/     \n",
      "   \\__\\/ /:/     \\  \\:\\        \\  \\:\\        \\__\\/ /:/     \\  \\:\\     \n",
      "     /__/:/       \\  \\:\\        \\  \\:\\         /__/:/       \\  \\:\\    \n",
      "     \\__\\/         \\__\\/         \\__\\/         \\__\\/         \\__\\/    \n",
      "      ___           ___           ___     \n",
      "     /  /\\         /__/\\         /__/|    \n",
      "    /  /::\\        \\  \\:\\       |  |:|    \n",
      "   /  /:/\\:\\        \\  \\:\\      |  |:|    \n",
      "  /  /:/~/::\\   _____\\__\\:\\   __|  |:|    \n",
      " /__/:/ /:/\\:\\ /__/::::::::\\ /__/\\_|:|____\n",
      " \\  \\:\\/:/__\\/ \\  \\:\\~~\\~~\\/ \\  \\:\\/:::::/\n",
      "  \\  \\::/       \\  \\:\\  ~~~   \\  \\::/~~~~ \n",
      "   \\  \\:\\        \\  \\:\\        \\  \\:\\     \n",
      "    \\  \\:\\        \\  \\:\\        \\  \\:\\    \n",
      "     \\__\\/         \\__\\/         \\__\\/    \n",
      "\n"
     ]
    }
   ],
   "source": [
    "#Text in isometric3 font\n",
    "font=pyfiglet.figlet_format('Shashank',font=\"isometric3\")\n",
    "print(font)"
   ]
  },
  {
   "cell_type": "code",
   "execution_count": 47,
   "metadata": {},
   "outputs": [
    {
     "name": "stdout",
     "output_type": "stream",
     "text": [
      "      ___           ___           ___           ___           ___     \n",
      "     /  /\\         /  /\\         /  /\\         /  /\\         /  /\\    \n",
      "    /  /::\\       /  /:/        /  /::\\       /  /::\\       /  /:/    \n",
      "   /__/:/\\:\\     /  /:/        /  /:/\\:\\     /__/:/\\:\\     /  /:/     \n",
      "  _\\_ \\:\\ \\:\\   /  /::\\ ___   /  /::\\ \\:\\   _\\_ \\:\\ \\:\\   /  /::\\ ___ \n",
      " /__/\\ \\:\\ \\:\\ /__/:/\\:\\  /\\ /__/:/\\:\\_\\:\\ /__/\\ \\:\\ \\:\\ /__/:/\\:\\  /\\\n",
      " \\  \\:\\ \\:\\_\\/ \\__\\/  \\:\\/:/ \\__\\/  \\:\\/:/ \\  \\:\\ \\:\\_\\/ \\__\\/  \\:\\/:/\n",
      "  \\  \\:\\_\\:\\        \\__\\::/       \\__\\::/   \\  \\:\\_\\:\\        \\__\\::/ \n",
      "   \\  \\:\\/:/        /  /:/        /  /:/     \\  \\:\\/:/        /  /:/  \n",
      "    \\  \\::/        /__/:/        /__/:/       \\  \\::/        /__/:/   \n",
      "     \\__\\/         \\__\\/         \\__\\/         \\__\\/         \\__\\/    \n",
      "      ___           ___           ___     \n",
      "     /  /\\         /  /\\         /  /\\    \n",
      "    /  /::\\       /  /::|       /  /:/    \n",
      "   /  /:/\\:\\     /  /:|:|      /  /:/     \n",
      "  /  /::\\ \\:\\   /  /:/|:|__   /  /::\\____ \n",
      " /__/:/\\:\\_\\:\\ /__/:/ |:| /\\ /__/:/\\:::::\\\n",
      " \\__\\/  \\:\\/:/ \\__\\/  |:|/:/ \\__\\/~|:|~~~~\n",
      "      \\__\\::/      |  |:/:/     |  |:|    \n",
      "      /  /:/       |__|::/      |  |:|    \n",
      "     /__/:/        /__/:/       |__|:|    \n",
      "     \\__\\/         \\__\\/         \\__\\|    \n",
      "\n"
     ]
    }
   ],
   "source": [
    "#Text in isometric4 font\n",
    "font=pyfiglet.figlet_format('Shashank',font=\"isometric4\")\n",
    "print(font)"
   ]
  },
  {
   "cell_type": "code",
   "execution_count": 54,
   "metadata": {},
   "outputs": [
    {
     "name": "stdout",
     "output_type": "stream",
     "text": [
      " SSSSS  hh                    hh                      kk     \n",
      "SS      hh        aa aa  sss  hh        aa aa nn nnn  kk  kk \n",
      " SSSSS  hhhhhh   aa aaa s     hhhhhh   aa aaa nnn  nn kkkkk  \n",
      "     SS hh   hh aa  aaa  sss  hh   hh aa  aaa nn   nn kk kk  \n",
      " SSSSS  hh   hh  aaa aa     s hh   hh  aaa aa nn   nn kk  kk \n",
      "                         sss                                 \n",
      "\n"
     ]
    }
   ],
   "source": [
    "#Text in letters font\n",
    "font=pyfiglet.figlet_format('Shashank',font=\"letters\")\n",
    "print(font)"
   ]
  },
  {
   "cell_type": "code",
   "execution_count": 56,
   "metadata": {},
   "outputs": [
    {
     "name": "stdout",
     "output_type": "stream",
     "text": [
      "      :::::::: :::    :::    :::     :::::::: :::    :::    :::    ::::    ::: \n",
      "    :+:    :+::+:    :+:  :+: :+:  :+:    :+::+:    :+:  :+: :+:  :+:+:   :+:  \n",
      "   +:+       +:+    +:+ +:+   +:+ +:+       +:+    +:+ +:+   +:+ :+:+:+  +:+   \n",
      "  +#++:++#+++#++:++#+++#++:++#++:+#++:++#+++#++:++#+++#++:++#++:+#+ +:+ +#+    \n",
      "        +#++#+    +#++#+     +#+       +#++#+    +#++#+     +#++#+  +#+#+#     \n",
      "#+#    #+##+#    #+##+#     #+##+#    #+##+#    #+##+#     #+##+#   #+#+#      \n",
      "######## ###    ######     ### ######## ###    ######     ######    ####       \n",
      "      :::    ::: \n",
      "     :+:   :+:   \n",
      "    +:+  +:+     \n",
      "   +#++:++       \n",
      "  +#+  +#+       \n",
      " #+#   #+#       \n",
      "###    ###       \n",
      "\n"
     ]
    }
   ],
   "source": [
    "#Text in alligator font\n",
    "font=pyfiglet.figlet_format('Shashank',font=\"alligator\")\n",
    "print(font)"
   ]
  },
  {
   "cell_type": "code",
   "execution_count": 57,
   "metadata": {},
   "outputs": [
    {
     "name": "stdout",
     "output_type": "stream",
     "text": [
      "   _  _  _  _    _                                           _               \n",
      " _(_)(_)(_)(_)_ (_)                                         (_)              \n",
      "(_)          (_)(_) _  _  _      _  _  _       _  _  _  _   (_) _  _  _      \n",
      "(_)_  _  _  _   (_)(_)(_)(_)_   (_)(_)(_) _  _(_)(_)(_)(_)  (_)(_)(_)(_)_    \n",
      "  (_)(_)(_)(_)_ (_)        (_)   _  _  _ (_)(_)_  _  _  _   (_)        (_)   \n",
      " _           (_)(_)        (_) _(_)(_)(_)(_)  (_)(_)(_)(_)_ (_)        (_)   \n",
      "(_)_  _  _  _(_)(_)        (_)(_)_  _  _ (_)_  _  _  _  _(_)(_)        (_)   \n",
      "  (_)(_)(_)(_)  (_)        (_)  (_)(_)(_)  (_)(_)(_)(_)(_)  (_)        (_)   \n",
      "                                                                             \n",
      "                                                                             \n",
      "                               _               \n",
      "                              (_)              \n",
      "   _  _  _       _  _  _  _   (_)     _        \n",
      "  (_)(_)(_) _   (_)(_)(_)(_)_ (_)   _(_)       \n",
      "   _  _  _ (_)  (_)        (_)(_) _(_)         \n",
      " _(_)(_)(_)(_)  (_)        (_)(_)(_)_          \n",
      "(_)_  _  _ (_)_ (_)        (_)(_)  (_)_        \n",
      "  (_)(_)(_)  (_)(_)        (_)(_)    (_)       \n",
      "                                               \n",
      "                                               \n",
      "\n"
     ]
    }
   ],
   "source": [
    "#Text in dotmatrix font\n",
    "font=pyfiglet.figlet_format('Shashank',font=\"dotmatrix\")\n",
    "print(font)"
   ]
  },
  {
   "cell_type": "code",
   "execution_count": 58,
   "metadata": {},
   "outputs": [
    {
     "name": "stdout",
     "output_type": "stream",
     "text": [
      "  _   _   _   _   _   _   _   _  \n",
      " / \\ / \\ / \\ / \\ / \\ / \\ / \\ / \\ \n",
      "( S | h | a | s | h | a | n | k )\n",
      " \\_/ \\_/ \\_/ \\_/ \\_/ \\_/ \\_/ \\_/ \n",
      "\n"
     ]
    }
   ],
   "source": [
    "#Text in bubble font\n",
    "font=pyfiglet.figlet_format('Shashank',font=\"bubble\")\n",
    "print(font)"
   ]
  },
  {
   "cell_type": "code",
   "execution_count": 61,
   "metadata": {},
   "outputs": [
    {
     "name": "stdout",
     "output_type": "stream",
     "text": [
      " ___  _   _    __    ___  _   _    __    _  _  _  _ \n",
      "/ __)( )_( )  /__\\  / __)( )_( )  /__\\  ( \\( )( )/ )\n",
      "\\__ \\ ) _ (  /(__)\\ \\__ \\ ) _ (  /(__)\\  )  (  )  ( \n",
      "(___/(_) (_)(__)(__)(___/(_) (_)(__)(__)(_)\\_)(_)\\_)\n",
      "\n"
     ]
    }
   ],
   "source": [
    "#Text in bulbhead font\n",
    "font=pyfiglet.figlet_format('Shashank',font=\"bulbhead\")\n",
    "print(font)"
   ]
  },
  {
   "cell_type": "code",
   "execution_count": 63,
   "metadata": {},
   "outputs": [
    {
     "name": "stdout",
     "output_type": "stream",
     "text": [
      "+-+-+-+-+-+-+-+-+\n",
      "|S|h|a|s|h|a|n|k|\n",
      "+-+-+-+-+-+-+-+-+\n",
      "\n"
     ]
    }
   ],
   "source": [
    "#Text in digital font\n",
    "font=pyfiglet.figlet_format('Shashank',font=\"digital\")\n",
    "print(font)"
   ]
  },
  {
   "cell_type": "code",
   "execution_count": 38,
   "metadata": {},
   "outputs": [
    {
     "name": "stdout",
     "output_type": "stream",
     "text": [
      "  ******** **                        **                         **    \n",
      " **////// /**                       /**                        /**    \n",
      "/**       /**       ******    ******/**       ******   ******* /**  **\n",
      "/*********/******  //////**  **//// /******  //////** //**///**/** ** \n",
      "////////**/**///**  ******* //***** /**///**  *******  /**  /**/****  \n",
      "       /**/**  /** **////**  /////**/**  /** **////**  /**  /**/**/** \n",
      " ******** /**  /**//******** ****** /**  /**//******** ***  /**/**//**\n",
      "////////  //   //  //////// //////  //   //  //////// ///   // //  // \n",
      "\n"
     ]
    }
   ],
   "source": [
    "from pyfiglet import Figlet\n",
    "font=Figlet(font=\"3-d\")\n",
    "print(font.renderText('Shashank'))"
   ]
  },
  {
   "cell_type": "code",
   "execution_count": 65,
   "metadata": {},
   "outputs": [
    {
     "name": "stdout",
     "output_type": "stream",
     "text": [
      "Requirement already satisfied: termcolor in c:\\anaconda\\lib\\site-packages (1.1.0)\n"
     ]
    }
   ],
   "source": [
    "!pip install termcolor"
   ]
  },
  {
   "cell_type": "code",
   "execution_count": 73,
   "metadata": {},
   "outputs": [
    {
     "name": "stdout",
     "output_type": "stream",
     "text": [
      "\u001b[34mShashank\u001b[0m\n",
      "\u001b[32mShashank\u001b[0m\n",
      "\u001b[33mShashank\u001b[0m\n",
      "\u001b[31mShashank\u001b[0m\n"
     ]
    }
   ],
   "source": [
    "from termcolor import colored,cprint\n",
    "print(colored('Shashank','blue'))\n",
    "print(colored('Shashank','green'))\n",
    "print(colored('Shashank','yellow'))\n",
    "print(colored('Shashank','red'))"
   ]
  },
  {
   "cell_type": "code",
   "execution_count": 78,
   "metadata": {},
   "outputs": [
    {
     "name": "stdout",
     "output_type": "stream",
     "text": [
      "\u001b[34mHello\u001b[0m\n",
      "\u001b[32mI am Shashank\u001b[0m\n"
     ]
    }
   ],
   "source": [
    "#define a function in termcolor\n",
    "print_blue=lambda x:cprint(x,\"blue\")\n",
    "print_green=lambda x:cprint(x,\"green\")\n",
    "print_blue(\"Hello\")\n",
    "print_green(\"I am Shashank\")"
   ]
  },
  {
   "cell_type": "code",
   "execution_count": 82,
   "metadata": {},
   "outputs": [
    {
     "name": "stdout",
     "output_type": "stream",
     "text": [
      "\u001b[34m ____  _               _                 _    \n",
      "/ ___|| |__   __ _ ___| |__   __ _ _ __ | | __\n",
      "\\___ \\| '_ \\ / _` / __| '_ \\ / _` | '_ \\| |/ /\n",
      " ___) | | | | (_| \\__ \\ | | | (_| | | | |   < \n",
      "|____/|_| |_|\\__,_|___/_| |_|\\__,_|_| |_|_|\\_\\\n",
      "                                              \n",
      "     _       _                   _ \n",
      "    | | __ _(_)_____      ____ _| |\n",
      " _  | |/ _` | / __\\ \\ /\\ / / _` | |\n",
      "| |_| | (_| | \\__ \\\\ V  V / (_| | |\n",
      " \\___/ \\__,_|_|___/ \\_/\\_/ \\__,_|_|\n",
      "                                   \n",
      "\u001b[0m\n"
     ]
    }
   ],
   "source": [
    "import pyfiglet\n",
    "font=pyfiglet.figlet_format('Shashank Jaiswal')\n",
    "print(colored(font,\"blue\"))"
   ]
  },
  {
   "cell_type": "code",
   "execution_count": 84,
   "metadata": {},
   "outputs": [
    {
     "name": "stdout",
     "output_type": "stream",
     "text": [
      "\u001b[31m:'######::'##::::'##::::'###:::::'######::'##::::'##::::'###::::'##::: ##:\n",
      "'##... ##: ##:::: ##:::'## ##:::'##... ##: ##:::: ##:::'## ##::: ###:: ##:\n",
      " ##:::..:: ##:::: ##::'##:. ##:: ##:::..:: ##:::: ##::'##:. ##:: ####: ##:\n",
      ". ######:: #########:'##:::. ##:. ######:: #########:'##:::. ##: ## ## ##:\n",
      ":..... ##: ##.... ##: #########::..... ##: ##.... ##: #########: ##. ####:\n",
      "'##::: ##: ##:::: ##: ##.... ##:'##::: ##: ##:::: ##: ##.... ##: ##:. ###:\n",
      ". ######:: ##:::: ##: ##:::: ##:. ######:: ##:::: ##: ##:::: ##: ##::. ##:\n",
      ":......:::..:::::..::..:::::..:::......:::..:::::..::..:::::..::..::::..::\n",
      "'##:::'##:\n",
      " ##::'##::\n",
      " ##:'##:::\n",
      " #####::::\n",
      " ##. ##:::\n",
      " ##:. ##::\n",
      " ##::. ##:\n",
      "..::::..::\n",
      "\u001b[0m\n"
     ]
    }
   ],
   "source": [
    "font=pyfiglet.figlet_format('Shashank',font=\"banner3-D\")\n",
    "print(colored(font,\"red\"))"
   ]
  },
  {
   "cell_type": "code",
   "execution_count": 87,
   "metadata": {},
   "outputs": [
    {
     "name": "stdout",
     "output_type": "stream",
     "text": [
      "\u001b[33m      ___           ___           ___           ___           ___     \n",
      "     /\\__\\         /\\  \\         /\\  \\         /\\__\\         /\\  \\    \n",
      "    /:/ _/_        \\:\\  \\       /::\\  \\       /:/ _/_        \\:\\  \\   \n",
      "   /:/ /\\  \\        \\:\\  \\     /:/\\:\\  \\     /:/ /\\  \\        \\:\\  \\  \n",
      "  /:/ /::\\  \\   ___ /::\\  \\   /:/ /::\\  \\   /:/ /::\\  \\   ___ /::\\  \\ \n",
      " /:/_/:/\\:\\__\\ /\\  /:/\\:\\__\\ /:/_/:/\\:\\__\\ /:/_/:/\\:\\__\\ /\\  /:/\\:\\__\\\n",
      " \\:\\/:/ /:/  / \\:\\/:/  \\/__/ \\:\\/:/  \\/__/ \\:\\/:/ /:/  / \\:\\/:/  \\/__/\n",
      "  \\::/ /:/  /   \\::/__/       \\::/__/       \\::/ /:/  /   \\::/__/     \n",
      "   \\/_/:/  /     \\:\\  \\        \\:\\  \\        \\/_/:/  /     \\:\\  \\     \n",
      "     /:/  /       \\:\\__\\        \\:\\__\\         /:/  /       \\:\\__\\    \n",
      "     \\/__/         \\/__/         \\/__/         \\/__/         \\/__/    \n",
      "      ___           ___           ___     \n",
      "     /\\  \\         /\\  \\         /|  |    \n",
      "    /::\\  \\        \\:\\  \\       |:|  |    \n",
      "   /:/\\:\\  \\        \\:\\  \\      |:|  |    \n",
      "  /:/ /::\\  \\   _____\\:\\  \\   __|:|  |    \n",
      " /:/_/:/\\:\\__\\ /::::::::\\__\\ /\\ |:|__|____\n",
      " \\:\\/:/  \\/__/ \\:\\~~\\~~\\/__/ \\:\\/:::::/__/\n",
      "  \\::/__/       \\:\\  \\        \\::/~~/~    \n",
      "   \\:\\  \\        \\:\\  \\        \\:\\~~\\     \n",
      "    \\:\\__\\        \\:\\__\\        \\:\\__\\    \n",
      "     \\/__/         \\/__/         \\/__/    \n",
      "\u001b[0m\n"
     ]
    }
   ],
   "source": [
    "font=pyfiglet.figlet_format('Shashank',font=\"isometric2\")\n",
    "print(colored(font,\"yellow\"))"
   ]
  },
  {
   "cell_type": "code",
   "execution_count": 92,
   "metadata": {},
   "outputs": [
    {
     "name": "stdout",
     "output_type": "stream",
     "text": [
      "Your original data is\n",
      "   a  b\n",
      "0  1  3\n",
      "1  2  4\n",
      "2  3  5\n",
      "\u001b[33m'##::::'##::'#######::'########::'########:'##:::::::::::::'##:::\n",
      " ###::'###:'##.... ##: ##.... ##: ##.....:: ##:::::::::::'####:::\n",
      " ####'####: ##:::: ##: ##:::: ##: ##::::::: ##:::::::::::.. ##:::\n",
      " ## ### ##: ##:::: ##: ##:::: ##: ######::: ##::::::::::::: ##:::\n",
      " ##. #: ##: ##:::: ##: ##:::: ##: ##...:::: ##::::::::::::: ##:::\n",
      " ##:.:: ##: ##:::: ##: ##:::: ##: ##::::::: ##::::::::::::: ##:::\n",
      " ##:::: ##:. #######:: ########:: ########: ########:::::'######:\n",
      "..:::::..:::.......:::........:::........::........::::::......::\n",
      "\u001b[0m\n",
      "****************Training****************\n",
      "Output is\n",
      "   a  b\n",
      "0  0  0\n",
      "1  0  0\n",
      "2  0  0\n",
      "****************Complete****************\n",
      "\u001b[31m'##::::'##::'#######::'########::'########:'##:::::::::::'#######::\n",
      " ###::'###:'##.... ##: ##.... ##: ##.....:: ##::::::::::'##.... ##:\n",
      " ####'####: ##:::: ##: ##:::: ##: ##::::::: ##::::::::::..::::: ##:\n",
      " ## ### ##: ##:::: ##: ##:::: ##: ######::: ##:::::::::::'#######::\n",
      " ##. #: ##: ##:::: ##: ##:::: ##: ##...:::: ##::::::::::'##::::::::\n",
      " ##:.:: ##: ##:::: ##: ##:::: ##: ##::::::: ##:::::::::: ##::::::::\n",
      " ##:::: ##:. #######:: ########:: ########: ########:::: #########:\n",
      "..:::::..:::.......:::........:::........::........:::::.........::\n",
      "\u001b[0m\n",
      "****************Training****************\n",
      "Output is\n",
      "   a  b\n",
      "0  1  3\n",
      "1  2  4\n",
      "2  3  5\n",
      "****************Complete****************\n",
      "\u001b[32m'##::::'##::'#######::'########::'########:'##:::::::::::'#######::\n",
      " ###::'###:'##.... ##: ##.... ##: ##.....:: ##::::::::::'##.... ##:\n",
      " ####'####: ##:::: ##: ##:::: ##: ##::::::: ##::::::::::..::::: ##:\n",
      " ## ### ##: ##:::: ##: ##:::: ##: ######::: ##:::::::::::'#######::\n",
      " ##. #: ##: ##:::: ##: ##:::: ##: ##...:::: ##:::::::::::...... ##:\n",
      " ##:.:: ##: ##:::: ##: ##:::: ##: ##::::::: ##::::::::::'##:::: ##:\n",
      " ##:::: ##:. #######:: ########:: ########: ########::::. #######::\n",
      "..:::::..:::.......:::........:::........::........::::::.......:::\n",
      "\u001b[0m\n",
      "****************Training****************\n",
      "Output is\n",
      "   a   b\n",
      "0  2   6\n",
      "1  4   8\n",
      "2  6  10\n",
      "****************Complete****************\n",
      "\u001b[34m'##::::'##::'#######::'########::'########:'##::::::::::'##::::::::\n",
      " ###::'###:'##.... ##: ##.... ##: ##.....:: ##:::::::::: ##:::'##::\n",
      " ####'####: ##:::: ##: ##:::: ##: ##::::::: ##:::::::::: ##::: ##::\n",
      " ## ### ##: ##:::: ##: ##:::: ##: ######::: ##:::::::::: ##::: ##::\n",
      " ##. #: ##: ##:::: ##: ##:::: ##: ##...:::: ##:::::::::: #########:\n",
      " ##:.:: ##: ##:::: ##: ##:::: ##: ##::::::: ##::::::::::...... ##::\n",
      " ##:::: ##:. #######:: ########:: ########: ########:::::::::: ##::\n",
      "..:::::..:::.......:::........:::........::........:::::::::::..:::\n",
      "\u001b[0m\n",
      "****************Training****************\n",
      "Output is\n",
      "   a   b\n",
      "0  3   9\n",
      "1  6  12\n",
      "2  9  15\n",
      "****************Complete****************\n"
     ]
    }
   ],
   "source": [
    "from termcolor import colored\n",
    "from pyfiglet import Figlet\n",
    "import time \n",
    "import pandas as pd \n",
    "\n",
    "\n",
    "df = pd.DataFrame({'a': [1,2,3], \n",
    "                    'b': [3,4,5]})\n",
    "f = Figlet(font='banner3-D')\n",
    "colors = ['yellow', 'red', 'green', 'blue']\n",
    "print('Your original data is')\n",
    "print(df)\n",
    "for i, color in enumerate(colors):\n",
    "    print(colored(f.renderText(f'Model {i+1}'), color))\n",
    "    print('****************Training****************')\n",
    "    time.sleep(2)\n",
    "    print('Output is')\n",
    "    print(df.multiply(i))\n",
    "    print('****************Complete****************')"
   ]
  },
  {
   "cell_type": "markdown",
   "metadata": {},
   "source": [
    "# for using more fonts\n",
    "Visit:-http://www.figlet.org/examples.html"
   ]
  }
 ],
 "metadata": {
  "kernelspec": {
   "display_name": "Python 3",
   "language": "python",
   "name": "python3"
  },
  "language_info": {
   "codemirror_mode": {
    "name": "ipython",
    "version": 3
   },
   "file_extension": ".py",
   "mimetype": "text/x-python",
   "name": "python",
   "nbconvert_exporter": "python",
   "pygments_lexer": "ipython3",
   "version": "3.8.5"
  }
 },
 "nbformat": 4,
 "nbformat_minor": 4
}

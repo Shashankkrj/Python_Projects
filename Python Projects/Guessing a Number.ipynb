{
 "cells": [
  {
   "cell_type": "markdown",
   "id": "59026d35",
   "metadata": {},
   "source": [
    "## Program for guessing a number between a selected range"
   ]
  },
  {
   "cell_type": "markdown",
   "id": "e1e3c35b",
   "metadata": {},
   "source": [
    "Randint:-  randint() is an inbuilt function of the random module in Python. It is used to generate a random integer in range [start, end] including the end points. "
   ]
  },
  {
   "cell_type": "code",
   "execution_count": 1,
   "id": "f6eaa3f0",
   "metadata": {},
   "outputs": [
    {
     "name": "stdout",
     "output_type": "stream",
     "text": [
      "Enter the starting number of range: 4\n",
      "Enter the ending number of range: 20\n",
      "Enter any number: 8\n",
      "Your guess is less than orignal number\n",
      "Enter any number: 14\n",
      "Your guess is more than orignal number\n",
      "Enter any number: 11\n",
      "Your guess is less than orignal number\n",
      "Enter any number: 13\n",
      "Your guess is more than orignal number\n",
      "Enter any number: 12\n",
      "Your guess is right\n"
     ]
    }
   ],
   "source": [
    "#import random module\n",
    "import random\n",
    "#select starting number of selected range\n",
    "start_number = int(input(\"Enter the starting number of range: \"))\n",
    "#select last number of selected range\n",
    "last_number = int(input(\"Enter the ending number of range: \"))\n",
    "#select a random number between the selected range\n",
    "orignal_number = random.randint(start_number, last_number)\n",
    "#take a input from user\n",
    "guess_number = int(input(\"Enter any number: \"))\n",
    "#Loop continues until our guess is equal to orignal number\n",
    "while guess_number != orignal_number:\n",
    "    #if guess is smaller than orignal number\n",
    "    if guess_number < orignal_number:\n",
    "        print(\"Your guess is less than orignal number\")\n",
    "    #if guess is larger than orignal number\n",
    "    elif guess_number > orignal_number:\n",
    "        print(\"Your guess is more than orignal number\")\n",
    "    #asking again for guess until our guess is correct\n",
    "    guess_number = int(input(\"Enter any number: \"))\n",
    "print(\"Your guess is right\")      "
   ]
  }
 ],
 "metadata": {
  "kernelspec": {
   "display_name": "Python 3 (ipykernel)",
   "language": "python",
   "name": "python3"
  },
  "language_info": {
   "codemirror_mode": {
    "name": "ipython",
    "version": 3
   },
   "file_extension": ".py",
   "mimetype": "text/x-python",
   "name": "python",
   "nbconvert_exporter": "python",
   "pygments_lexer": "ipython3",
   "version": "3.8.13"
  }
 },
 "nbformat": 4,
 "nbformat_minor": 5
}

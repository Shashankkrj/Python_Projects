{
 "cells": [
  {
   "cell_type": "markdown",
   "metadata": {},
   "source": [
    "### When checking the speed of the Internet connection, the results are displayed as download speed and upload speed. Download speed refers to the speed at which your internet connection downloads data from the internet and upload speed refers to the speed at which your internet connection uploads data to the internet. So, calculating the download speed and the upload speed of an Internet connection sums up the Internet speed test.  Python provides various libraries for doing the same. One such library is speedtest-cli. This library is a command-line interface for testing internet bandwidth using speedtest.net"
   ]
  },
  {
   "cell_type": "code",
   "execution_count": 17,
   "metadata": {},
   "outputs": [
    {
     "name": "stdout",
     "output_type": "stream",
     "text": [
      "Requirement already satisfied: speedtest-cli in c:\\anaconda\\lib\\site-packages (2.1.3)\n",
      "Note: you may need to restart the kernel to use updated packages.\n"
     ]
    }
   ],
   "source": [
    "pip install speedtest-cli"
   ]
  },
  {
   "cell_type": "code",
   "execution_count": 1,
   "metadata": {},
   "outputs": [
    {
     "name": "stdout",
     "output_type": "stream",
     "text": [
      "Wifi Download Speed is  11574211.132954415\n",
      "Wifi Upload Speed is  530460.8411908343\n"
     ]
    }
   ],
   "source": [
    "import speedtest\n",
    "wifi=speedtest.Speedtest()\n",
    "print(\"Wifi Download Speed is \", wifi.download())\n",
    "print(\"Wifi Upload Speed is \", wifi.upload())"
   ]
  },
  {
   "cell_type": "code",
   "execution_count": 2,
   "metadata": {},
   "outputs": [
    {
     "name": "stdout",
     "output_type": "stream",
     "text": [
      "2.1.3\n"
     ]
    }
   ],
   "source": [
    "import speedtest\n",
    "print(speedtest.__version__)"
   ]
  },
  {
   "cell_type": "code",
   "execution_count": 4,
   "metadata": {},
   "outputs": [
    {
     "name": "stdout",
     "output_type": "stream",
     "text": [
      "What speed do you want to test:  \n",
      " \n",
      "1) Download Speed  \n",
      "\n",
      "2) Upload Speed  \n",
      "\n",
      "3) Ping \n",
      "\n",
      "Your Choice: 2\n",
      "544037.8702596803\n"
     ]
    }
   ],
   "source": [
    "import speedtest  \n",
    "st = speedtest.Speedtest()\n",
    "option = int(input('''What speed do you want to test:  \n",
    " \n",
    "1) Download Speed  \n",
    "\n",
    "2) Upload Speed  \n",
    "\n",
    "3) Ping \n",
    "\n",
    "Your Choice: ''')) \n",
    "if option == 1:\n",
    "    print(st.download())  \n",
    "elif option == 2: \n",
    "    print(st.upload())  \n",
    "elif option == 3:  \n",
    "    servernames =[]  \n",
    "    st.get_servers(servernames)  \n",
    "    print(st.results.ping)  \n",
    "else:\n",
    "    print(\"Please enter the correct choice !\") "
   ]
  },
  {
   "cell_type": "markdown",
   "metadata": {},
   "source": [
    "##### To learn more about speedtest-cli package refer https://www.geeksforgeeks.org/test-internet-speed-using-python/"
   ]
  }
 ],
 "metadata": {
  "kernelspec": {
   "display_name": "Python 3",
   "language": "python",
   "name": "python3"
  },
  "language_info": {
   "codemirror_mode": {
    "name": "ipython",
    "version": 3
   },
   "file_extension": ".py",
   "mimetype": "text/x-python",
   "name": "python",
   "nbconvert_exporter": "python",
   "pygments_lexer": "ipython3",
   "version": "3.8.5"
  }
 },
 "nbformat": 4,
 "nbformat_minor": 4
}

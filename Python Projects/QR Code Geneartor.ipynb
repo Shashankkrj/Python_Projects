{
 "cells": [
  {
   "cell_type": "markdown",
   "id": "39f70987",
   "metadata": {},
   "source": [
    "## Program to generate a qr(quick response) code "
   ]
  },
  {
   "cell_type": "code",
   "execution_count": 1,
   "id": "3b2927c5",
   "metadata": {},
   "outputs": [],
   "source": [
    "#import library\n",
    "import qrcode"
   ]
  },
  {
   "cell_type": "code",
   "execution_count": 2,
   "id": "754bd4aa",
   "metadata": {},
   "outputs": [],
   "source": [
    "#Instantiate QRCode object\n",
    "qr_object = qrcode.QRCode(version = 1, box_size = 6, border = 2)"
   ]
  },
  {
   "cell_type": "code",
   "execution_count": 3,
   "id": "65dc5815",
   "metadata": {
    "scrolled": true
   },
   "outputs": [],
   "source": [
    "#Add data to the QR Code\n",
    "data = \"https://github.com/Shashankkrj\"\n",
    "qr_object.add_data(data)\n",
    "#Comile the data into a QR Code array\n",
    "qr_object.make()\n",
    "image = qr_object.make_image(fill_color = \"black\",back_color = \"grey\")\n",
    "#Saving image into a file\n",
    "image.save(\"QR.png\")"
   ]
  },
  {
   "cell_type": "code",
   "execution_count": 4,
   "id": "4d60f606",
   "metadata": {},
   "outputs": [
    {
     "data": {
      "image/png": "[encoded data removed]",
      "text/plain": [
       "<qrcode.image.pil.PilImage at 0x1b775d824c0>"
      ]
     },
     "execution_count": 4,
     "metadata": {},
     "output_type": "execute_result"
    }
   ],
   "source": [
    "image"
   ]
  }
 ],
 "metadata": {
  "kernelspec": {
   "display_name": "Python 3 (ipykernel)",
   "language": "python",
   "name": "python3"
  },
  "language_info": {
   "codemirror_mode": {
    "name": "ipython",
    "version": 3
   },
   "file_extension": ".py",
   "mimetype": "text/x-python",
   "name": "python",
   "nbconvert_exporter": "python",
   "pygments_lexer": "ipython3",
   "version": "3.8.13"
  }
 },
 "nbformat": 4,
 "nbformat_minor": 5
}

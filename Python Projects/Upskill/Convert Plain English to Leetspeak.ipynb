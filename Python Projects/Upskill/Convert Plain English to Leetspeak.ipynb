{
 "cells": [
  {
   "cell_type": "code",
   "execution_count": 1,
   "metadata": {},
   "outputs": [
    {
     "name": "stdout",
     "output_type": "stream",
     "text": [
      "Enter your message: hat\n",
      "All possible Leet conversion of your message is: \n",
      "1.|-|47\n",
      "2.|-|@7\n",
      "3.]-[@7\n",
      "4.|-|@+\n",
      "5.|-|4+\n",
      "6.]-[/-\\+\n",
      "7.]-[@+\n",
      "8.]-[47\n",
      "9.|-|/-\\+\n",
      "10.]-[4+\n",
      "11.]-[/-\\7\n",
      "12.|-|/-\\7\n"
     ]
    }
   ],
   "source": [
    "import random\n",
    "def converttoleet(word_by_user):\n",
    "    \"\"\"Convert the English string in message and return leetspeak.\"\"\"\n",
    "    # Make sure all the keys in `charMapping` are lowercase.\n",
    "    charMapping = { 'a': ['4', '@', '/-\\\\'], 'c': ['('], 'd': ['|)'], 'e': ['3'], 'f': ['ph'], \n",
    "                   'h': [']-[', '|-|'], 'i': ['1', '!', '|'], 'k': [']<'], 'o': ['0'], \n",
    "                   's': ['$', '5'], 't': ['7', '+'], 'u': ['|_|'], 'v': ['\\\\/']}\n",
    "    \n",
    "    leetspeak=''\n",
    "    list_of_all_leetspeak=[]\n",
    "    final_list_of_all_leetspeak=[]\n",
    "    \n",
    "    count=1\n",
    "    # Count all the possible combinations of given message by user\n",
    "    for char in word_by_user:\n",
    "        if char.lower() in charMapping:\n",
    "            count=count*len(charMapping[char.lower()])\n",
    "    \n",
    "    # Loop continues until we get all the combinations of leetspeak\n",
    "    while len(final_list_of_all_leetspeak)!=count:\n",
    "        #Match all the characters present in the word_by_user with charMapping\n",
    "        for char in word_by_user:\n",
    "            # If char is present in charmapping, replace it with its values\n",
    "            if char.lower() in charMapping:\n",
    "                possibleLeetReplacements = charMapping[char.lower()]\n",
    "                leetReplacement = random.choice(possibleLeetReplacements)\n",
    "                leetspeak = leetspeak + leetReplacement\n",
    "            # Don't translate this character:\n",
    "            else:\n",
    "                leetspeak = leetspeak + char\n",
    "        list_of_all_leetspeak.append(leetspeak)\n",
    "        final_list_of_all_leetspeak = list(set(list_of_all_leetspeak))\n",
    "        leetspeak=''\n",
    "  \n",
    "    return final_list_of_all_leetspeak\n",
    "\n",
    "# Arrangement of all leetspeak in a column\n",
    "def arrangement_of_list(list_of_all_leetspeak):\n",
    "    print(\"All possible Leet conversion of your message is: \")\n",
    "    for i in range(len(final_list_of_all_leetspeak)):\n",
    "        x = str(i+1)+\".\"+final_list_of_all_leetspeak[i]\n",
    "        print(x,sep=\"\\n\")\n",
    "\n",
    "# Taking input from user\n",
    "word_by_user=input(\"Enter your message: \")\n",
    "# Calling functions\n",
    "final_list_of_all_leetspeak = converttoleet(word_by_user)\n",
    "arrangement_of_list(final_list_of_all_leetspeak)"
   ]
  }
 ],
 "metadata": {
  "kernelspec": {
   "display_name": "Python 3",
   "language": "python",
   "name": "python3"
  },
  "language_info": {
   "codemirror_mode": {
    "name": "ipython",
    "version": 3
   },
   "file_extension": ".py",
   "mimetype": "text/x-python",
   "name": "python",
   "nbconvert_exporter": "python",
   "pygments_lexer": "ipython3",
   "version": "3.8.5"
  }
 },
 "nbformat": 4,
 "nbformat_minor": 4
}
